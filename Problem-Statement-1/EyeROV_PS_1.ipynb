{
  "nbformat": 4,
  "nbformat_minor": 0,
  "metadata": {
    "colab": {
      "provenance": []
    },
    "kernelspec": {
      "name": "python3",
      "display_name": "Python 3"
    },
    "language_info": {
      "name": "python"
    }
  },
  "cells": [
    {
      "cell_type": "markdown",
      "source": [
        "# 1. **Read the file 'data.xyz' attached with the document which has xyz data with respect to different timestamps. Segment at 18:51:35.232 and 19:02:14.621 and give the output as three segments.**"
      ],
      "metadata": {
        "id": "6RELvPROiWVO"
      }
    },
    {
      "cell_type": "code",
      "execution_count": 1,
      "metadata": {
        "id": "Sa4WcsgCiQLU"
      },
      "outputs": [],
      "source": [
        "import pandas as pd"
      ]
    },
    {
      "cell_type": "code",
      "source": [
        "df = pd.read_csv('data.xyz', sep=\"\\s+\")\n",
        "df[\"Timestamp\"] =pd.to_datetime(df[\"Timestamp\"], format=(\"%H:%M:%S.%f\"))"
      ],
      "metadata": {
        "colab": {
          "base_uri": "https://localhost:8080/"
        },
        "id": "a_GEOHcginor",
        "outputId": "d46b6b84-fe0d-4a4f-9bc4-3592026b4a2d"
      },
      "execution_count": 2,
      "outputs": [
        {
          "output_type": "stream",
          "name": "stderr",
          "text": [
            "<>:1: SyntaxWarning: invalid escape sequence '\\s'\n",
            "<>:1: SyntaxWarning: invalid escape sequence '\\s'\n",
            "/tmp/ipython-input-3945208493.py:1: SyntaxWarning: invalid escape sequence '\\s'\n",
            "  df = pd.read_csv('data.xyz', sep=\"\\s+\")\n"
          ]
        }
      ]
    },
    {
      "cell_type": "code",
      "source": [
        "segment_1_end = pd.to_datetime(\"18:51:35.232\", format=\"%H:%M:%S.%f\")\n",
        "segment_2_end = pd.to_datetime(\"19:02:14.621\", format=\"%H:%M:%S.%f\")"
      ],
      "metadata": {
        "id": "EpBWNay0kqsX"
      },
      "execution_count": 5,
      "outputs": []
    },
    {
      "cell_type": "code",
      "source": [
        "segment_1 = df[df[\"Timestamp\"] <= segment_1_end]\n",
        "segment_2 = df[(df['Timestamp'] > segment_1_end) & (df[\"Timestamp\"] <= segment_2_end)]\n",
        "segment_3 = df[df[\"Timestamp\"] > segment_2_end]"
      ],
      "metadata": {
        "id": "B07s7f7glR1X"
      },
      "execution_count": 7,
      "outputs": []
    },
    {
      "cell_type": "code",
      "source": [
        "segment_1.to_csv(\"segment_1.xyz\", sep=\" \", index=False)\n",
        "segment_2.to_csv(\"segment_2.xyz\", sep=\" \", index=False)\n",
        "segment_3.to_csv(\"segment_3.xyz\", sep=\" \", index=False)"
      ],
      "metadata": {
        "id": "Wvbqz3fwlyLS"
      },
      "execution_count": 8,
      "outputs": []
    },
    {
      "cell_type": "code",
      "source": [
        "print(\"Data segmented successfully !!\")"
      ],
      "metadata": {
        "colab": {
          "base_uri": "https://localhost:8080/"
        },
        "id": "3k36IoRMmAPa",
        "outputId": "58464615-9772-472f-b621-4cc00f4f9673"
      },
      "execution_count": 9,
      "outputs": [
        {
          "output_type": "stream",
          "name": "stdout",
          "text": [
            "Data segmented successfully !!\n"
          ]
        }
      ]
    },
    {
      "cell_type": "code",
      "source": [
        "sg_1 = pd.read_csv(\"segment_1.xyz\", sep=\"\\s+\")\n",
        "sg_2 = pd.read_csv(\"segment_2.xyz\", sep=\"\\s+\")\n",
        "sg_3 = pd.read_csv(\"segment_3.xyz\", sep=\"\\s+\")"
      ],
      "metadata": {
        "colab": {
          "base_uri": "https://localhost:8080/"
        },
        "id": "KnI76hNBmrUX",
        "outputId": "ad5c84c9-66fd-4a16-e85a-38d63e63b191"
      },
      "execution_count": 10,
      "outputs": [
        {
          "output_type": "stream",
          "name": "stderr",
          "text": [
            "<>:1: SyntaxWarning: invalid escape sequence '\\s'\n",
            "<>:2: SyntaxWarning: invalid escape sequence '\\s'\n",
            "<>:3: SyntaxWarning: invalid escape sequence '\\s'\n",
            "<>:1: SyntaxWarning: invalid escape sequence '\\s'\n",
            "<>:2: SyntaxWarning: invalid escape sequence '\\s'\n",
            "<>:3: SyntaxWarning: invalid escape sequence '\\s'\n",
            "/tmp/ipython-input-2582825762.py:1: SyntaxWarning: invalid escape sequence '\\s'\n",
            "  sg_1 = pd.read_csv(\"segment_1.xyz\", sep=\"\\s+\")\n",
            "/tmp/ipython-input-2582825762.py:2: SyntaxWarning: invalid escape sequence '\\s'\n",
            "  sg_2 = pd.read_csv(\"segment_2.xyz\", sep=\"\\s+\")\n",
            "/tmp/ipython-input-2582825762.py:3: SyntaxWarning: invalid escape sequence '\\s'\n",
            "  sg_3 = pd.read_csv(\"segment_3.xyz\", sep=\"\\s+\")\n"
          ]
        }
      ]
    },
    {
      "cell_type": "code",
      "source": [
        "print(sg_1)"
      ],
      "metadata": {
        "colab": {
          "base_uri": "https://localhost:8080/"
        },
        "id": "2VNDuMKhm23F",
        "outputId": "976f3091-b112-4b7a-9db7-5257d059a077"
      },
      "execution_count": 12,
      "outputs": [
        {
          "output_type": "stream",
          "name": "stdout",
          "text": [
            "                 Timestamp      X      Y      Z\n",
            "0  1900-01-01 18:45:07.201 -7.396  4.568 -9.270\n",
            "1  1900-01-01 18:45:16.388  7.461 -3.449  8.133\n",
            "2  1900-01-01 18:45:31.066  1.228  3.180  8.259\n",
            "3  1900-01-01 18:47:43.177  7.537  6.751  8.921\n",
            "4  1900-01-01 18:48:49.260 -4.865 -5.609 -2.543\n",
            "5  1900-01-01 18:49:53.008  1.245 -3.183 -9.953\n",
            "6  1900-01-01 18:51:13.471  8.624 -8.502 -7.813\n"
          ]
        }
      ]
    },
    {
      "cell_type": "code",
      "source": [
        "print(sg_2)"
      ],
      "metadata": {
        "colab": {
          "base_uri": "https://localhost:8080/"
        },
        "id": "q9uYhO4gnHrW",
        "outputId": "caabd7be-e75d-4d3e-9a3d-5c1b8d1c856d"
      },
      "execution_count": 13,
      "outputs": [
        {
          "output_type": "stream",
          "name": "stdout",
          "text": [
            "                  Timestamp      X      Y      Z\n",
            "0   1900-01-01 18:52:37.480 -8.693 -3.160  9.264\n",
            "1   1900-01-01 18:53:53.468  9.535  7.793  9.318\n",
            "2   1900-01-01 18:55:03.970 -1.752  2.860 -7.613\n",
            "3   1900-01-01 18:55:32.204  4.966 -6.363 -7.225\n",
            "4   1900-01-01 18:57:54.240  8.098  6.926  8.954\n",
            "5   1900-01-01 18:59:48.244 -6.042  5.992 -1.762\n",
            "6   1900-01-01 18:59:54.597  0.084  1.198 -7.562\n",
            "7   1900-01-01 19:00:17.628 -6.715  9.158  4.910\n",
            "8   1900-01-01 19:00:23.301 -4.430  3.792  7.241\n",
            "9   1900-01-01 19:01:49.348  6.902 -5.871  5.022\n",
            "10  1900-01-01 19:02:00.846 -0.131  2.342 -6.806\n",
            "11  1900-01-01 19:02:05.090  4.444 -0.153 -2.523\n"
          ]
        }
      ]
    },
    {
      "cell_type": "code",
      "source": [
        "print(sg_3)"
      ],
      "metadata": {
        "colab": {
          "base_uri": "https://localhost:8080/"
        },
        "id": "8brWH8atnR3P",
        "outputId": "954f7c85-5ab3-4c17-bc5c-b1a547e31b64"
      },
      "execution_count": 14,
      "outputs": [
        {
          "output_type": "stream",
          "name": "stdout",
          "text": [
            "                 Timestamp      X      Y      Z\n",
            "0  1900-01-01 19:02:46.688 -1.347 -3.183  8.933\n",
            "1  1900-01-01 19:03:13.271  0.672 -8.440  9.928\n",
            "2  1900-01-01 19:03:15.165 -3.130 -5.376  6.052\n",
            "3  1900-01-01 19:03:59.592  1.950  0.026 -9.249\n",
            "4  1900-01-01 19:04:27.079 -3.174 -2.984  9.533\n"
          ]
        }
      ]
    }
  ]
}